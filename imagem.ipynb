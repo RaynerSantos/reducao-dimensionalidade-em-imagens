{
 "cells": [
  {
   "cell_type": "code",
   "execution_count": 3,
   "metadata": {},
   "outputs": [],
   "source": [
    "import numpy as np\n",
    "import matplotlib.image as mpimg\n",
    "import matplotlib.pyplot as plt\n",
    "import cv2"
   ]
  },
  {
   "cell_type": "code",
   "execution_count": 8,
   "metadata": {},
   "outputs": [
    {
     "data": {
      "text/plain": [
       "-1"
      ]
     },
     "execution_count": 8,
     "metadata": {},
     "output_type": "execute_result"
    }
   ],
   "source": [
    "img = cv2.imread('d30.png')\n",
    "img = cv2.cvtColor(img, cv2.COLOR_BGR2BGRA)\n",
    "cv2.imshow(\"Binarização da imagem\", img)\n",
    "cv2.waitKey(0)"
   ]
  },
  {
   "cell_type": "code",
   "execution_count": 9,
   "metadata": {},
   "outputs": [
    {
     "ename": "error",
     "evalue": "OpenCV(4.8.0) D:\\a\\opencv-python\\opencv-python\\opencv\\modules\\core\\src\\arithm.cpp:230: error: (-215:Assertion failed) (mtype == CV_8U || mtype == CV_8S) && _mask.sameSize(*psrc1) in function 'cv::binary_op'\n",
     "output_type": "error",
     "traceback": [
      "\u001b[1;31m---------------------------------------------------------------------------\u001b[0m",
      "\u001b[1;31merror\u001b[0m                                     Traceback (most recent call last)",
      "Cell \u001b[1;32mIn[9], line 8\u001b[0m\n\u001b[0;32m      4\u001b[0m (T, \u001b[39mbin\u001b[39m) \u001b[39m=\u001b[39m cv2\u001b[39m.\u001b[39mthreshold(suave, \u001b[39m160\u001b[39m, \u001b[39m255\u001b[39m, cv2\u001b[39m.\u001b[39mTHRESH_BINARY)\n\u001b[0;32m      5\u001b[0m (T, binI) \u001b[39m=\u001b[39m cv2\u001b[39m.\u001b[39mthreshold(suave, \u001b[39m160\u001b[39m, \u001b[39m255\u001b[39m, cv2\u001b[39m.\u001b[39mTHRESH_BINARY_INV)\n\u001b[0;32m      6\u001b[0m resultado \u001b[39m=\u001b[39m np\u001b[39m.\u001b[39mvstack([\n\u001b[0;32m      7\u001b[0m     np\u001b[39m.\u001b[39mhstack([suave, \u001b[39mbin\u001b[39m]),\n\u001b[1;32m----> 8\u001b[0m     np\u001b[39m.\u001b[39mhstack([binI, cv2\u001b[39m.\u001b[39;49mbitwise_and(img, img, mask\u001b[39m=\u001b[39;49mbinI)])\n\u001b[0;32m      9\u001b[0m ])\n\u001b[0;32m     11\u001b[0m cv2\u001b[39m.\u001b[39mimshow(\u001b[39m\"\u001b[39m\u001b[39mBinarização da imagem\u001b[39m\u001b[39m\"\u001b[39m, resultado)\n\u001b[0;32m     12\u001b[0m cv2\u001b[39m.\u001b[39mwaitKey(\u001b[39m0\u001b[39m)\n",
      "\u001b[1;31merror\u001b[0m: OpenCV(4.8.0) D:\\a\\opencv-python\\opencv-python\\opencv\\modules\\core\\src\\arithm.cpp:230: error: (-215:Assertion failed) (mtype == CV_8U || mtype == CV_8S) && _mask.sameSize(*psrc1) in function 'cv::binary_op'\n"
     ]
    }
   ],
   "source": [
    "img = cv2.imread('d30.png')\n",
    "img = cv2.cvtColor(img, cv2.COLOR_BGR2BGRA)\n",
    "suave = cv2.GaussianBlur(img, (7,7), 0) # aplica blur\n",
    "(T, bin) = cv2.threshold(suave, 160, 255, cv2.THRESH_BINARY)\n",
    "(T, binI) = cv2.threshold(suave, 160, 255, cv2.THRESH_BINARY_INV)\n",
    "resultado = np.vstack([\n",
    "    np.hstack([suave, bin]),\n",
    "    np.hstack([binI, cv2.bitwise_and(img, img, mask=binI)])\n",
    "])\n",
    "\n",
    "cv2.imshow(\"Binarização da imagem\", resultado)\n",
    "cv2.waitKey(0)"
   ]
  }
 ],
 "metadata": {
  "kernelspec": {
   "display_name": "Python 3",
   "language": "python",
   "name": "python3"
  },
  "language_info": {
   "codemirror_mode": {
    "name": "ipython",
    "version": 3
   },
   "file_extension": ".py",
   "mimetype": "text/x-python",
   "name": "python",
   "nbconvert_exporter": "python",
   "pygments_lexer": "ipython3",
   "version": "3.11.4"
  },
  "orig_nbformat": 4
 },
 "nbformat": 4,
 "nbformat_minor": 2
}
